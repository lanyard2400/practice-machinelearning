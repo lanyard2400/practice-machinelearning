{
  "cells": [
    {
      "cell_type": "markdown",
      "metadata": {
        "id": "view-in-github",
        "colab_type": "text"
      },
      "source": [
        "<a href=\"https://colab.research.google.com/github/lanyard2400/practice-machinelearning/blob/main/question.ipynb\" target=\"_parent\"><img src=\"https://colab.research.google.com/assets/colab-badge.svg\" alt=\"Open In Colab\"/></a>"
      ]
    },
    {
      "cell_type": "markdown",
      "id": "140df16b",
      "metadata": {
        "id": "140df16b"
      },
      "source": [
        "# Python基礎テスト\n",
        "\n",
        "* 各問10点\n",
        "* それぞれの問いに対して`q{問題番号}.py`というファイル名でスクリプトを作成し提出    ※例えば問1の場合は`q1.py`とする\n",
        "* Web検索や研修資料の閲覧は認めるが、AIの使用 (コード補間含む) は禁止とする"
      ]
    },
    {
      "cell_type": "markdown",
      "id": "fc647718",
      "metadata": {
        "id": "fc647718"
      },
      "source": [
        "## 問1\n",
        "変数aに3、 bに7、 cに9を代入し、bとcを加算した結果にaを乗算した値をprintで出力せよ\n",
        "\n",
        "なおコードは2行以内に収めること"
      ]
    },
    {
      "cell_type": "code",
      "execution_count": null,
      "id": "d285f9cf",
      "metadata": {
        "id": "d285f9cf"
      },
      "outputs": [],
      "source": []
    },
    {
      "cell_type": "markdown",
      "id": "d1c95943",
      "metadata": {
        "id": "d1c95943"
      },
      "source": [
        "## 問2\n",
        "整数を入力とし、その整数が偶数の場合は文字列\"偶数\"を、奇数の場合は文字列\"奇数\"を返す関数 `odd_or_even` を作成せよ\n",
        "\n",
        "また関数の実行例として `odd_or_even(30)` の返り値を変数`result`に格納してからprintせよ"
      ]
    },
    {
      "cell_type": "code",
      "execution_count": null,
      "id": "3cc525c2",
      "metadata": {
        "id": "3cc525c2"
      },
      "outputs": [],
      "source": []
    },
    {
      "cell_type": "markdown",
      "id": "6327f511",
      "metadata": {
        "id": "6327f511"
      },
      "source": [
        "## 問3\n",
        "\n",
        "3の倍数のときは文字列\"Fizz\"、7の倍数のときは\"Buzz\"、3でも7でも割り切れる数は\"FizzBuzz\"、それ以外の数字は入力された数値そのものをprintする関数`fizz_buzz`を実装せよ\n",
        "\n",
        "また作成した関数`fizz_buzz`に1から50までの数値を入力せよ"
      ]
    },
    {
      "cell_type": "code",
      "execution_count": null,
      "id": "2e0d32dc",
      "metadata": {
        "id": "2e0d32dc"
      },
      "outputs": [],
      "source": []
    },
    {
      "cell_type": "markdown",
      "id": "04b53558",
      "metadata": {
        "id": "04b53558"
      },
      "source": [
        "## 問4\n",
        "\"Hello\"という文字列1つだけ含むタプルを作成して変数aに代入し、さらに変数aの型をprintで出力せよ"
      ]
    },
    {
      "cell_type": "code",
      "execution_count": null,
      "id": "9d697d7c",
      "metadata": {
        "id": "9d697d7c"
      },
      "outputs": [],
      "source": []
    },
    {
      "cell_type": "markdown",
      "id": "5f6fc150",
      "metadata": {
        "id": "5f6fc150"
      },
      "source": [
        "## 問5\n",
        "ある2つ整数値を入力として受け取り、一つ目の入力値`first`から二つ目の入力値`end`までの整数値の内3の倍数と5の倍数の個数をそれぞれカウントしてprintする関数`func`を作成せよ\n",
        "\n",
        "また関数の実行例として `func(10, 30)` を実行せよ\n",
        "\n",
        "※ 入力値は必ず first < end であると想定してよい"
      ]
    },
    {
      "cell_type": "code",
      "execution_count": null,
      "id": "831c68f8",
      "metadata": {
        "id": "831c68f8"
      },
      "outputs": [],
      "source": []
    },
    {
      "cell_type": "markdown",
      "id": "f2e860f7",
      "metadata": {
        "id": "f2e860f7"
      },
      "source": [
        "## 問6\n",
        "任意の整数nとrを引数として受け取り、順列nPrを計算する関数permutation(n, r)を作成せよ\n",
        "\n",
        "また実行例として`permutation(10, 3)`した結果を`result`に格納し、その結果をprintせよ"
      ]
    },
    {
      "cell_type": "code",
      "execution_count": null,
      "id": "85540ab9",
      "metadata": {
        "id": "85540ab9"
      },
      "outputs": [],
      "source": []
    },
    {
      "cell_type": "markdown",
      "id": "c0df93c4",
      "metadata": {
        "id": "c0df93c4"
      },
      "source": [
        "## 問7\n",
        "以下リスト `matrix` の要素の内奇数のみを3乗した新たなリスト `matrix_prosessed` に代入せよ\n",
        "\n",
        "※ `matrix_prosessed` の要素数と `matrix` の要素数は同じになります\n",
        "\n",
        "```py\n",
        "matrix = [\n",
        "    [1, 2, 3],\n",
        "    [4, 5, 6],\n",
        "    [7, 8, 9],\n",
        "]\n",
        "```\n",
        "\n",
        "(リスト内包表記は使用しないこと)"
      ]
    },
    {
      "cell_type": "code",
      "execution_count": null,
      "id": "abb08c65",
      "metadata": {
        "id": "abb08c65"
      },
      "outputs": [],
      "source": []
    },
    {
      "cell_type": "markdown",
      "id": "3bcd9642",
      "metadata": {
        "id": "3bcd9642"
      },
      "source": [
        "## 問8\n",
        "\n",
        "問7をリスト内包表記を使用して実装せよ"
      ]
    },
    {
      "cell_type": "code",
      "execution_count": null,
      "id": "7a7d5c3b",
      "metadata": {
        "id": "7a7d5c3b"
      },
      "outputs": [],
      "source": []
    },
    {
      "cell_type": "markdown",
      "id": "52847d8c",
      "metadata": {
        "id": "52847d8c"
      },
      "source": [
        "## 問9\n",
        "2つの整数リスト `list1`, `list2` を引数に取り、それらのリストを結合して一つの1次元リストとし、さらにリストの要素を昇順にソートする関数 `merge_and_sort` を作成せよ\n",
        "\n",
        "また実行例として以下の結果 `result` を print せよ\n",
        "\n",
        "※ ソートについては組み込み関数の使用可能\n",
        "\n",
        "```py\n",
        "result = merge_and_sort([45, 78, 12], [3, 52, 90, 13, 0])\n",
        "```"
      ]
    },
    {
      "cell_type": "code",
      "execution_count": null,
      "id": "95eb31a8",
      "metadata": {
        "id": "95eb31a8"
      },
      "outputs": [],
      "source": []
    },
    {
      "cell_type": "markdown",
      "id": "b80f5189",
      "metadata": {
        "id": "b80f5189"
      },
      "source": [
        "## 問10\n",
        "\n",
        "次の仕様に従って、関数 update_inventory を作成せよ\n",
        "\n",
        "- inventory は商品の名前をキー、その在庫数を値とする辞書\n",
        "- update_list は (商品名, 入荷数) のタプルのリスト\n",
        "- 関数 update_inventory(inventory, update_list) は以下の処理を行います：\n",
        "    1. update_list を for 文でループ処理する。\n",
        "    2. 商品が inventory に存在する場合は、在庫数を入荷数分だけ増加する。\n",
        "    3. 商品が存在しない場合は、新たにその商品を追加し、入荷数を在庫数として設定する。\n",
        "\n",
        "### 実行例\n",
        "\n",
        "```py\n",
        "inventory = {\"apple\": 10, \"banana\": 5, \"orange\": 8}\n",
        "update_list = [(\"banana\", 3), (\"grape\", 7), (\"apple\", 2)]\n",
        "\n",
        "inventory = update_inventory(inventory, update_list)\n",
        "\n",
        "print(inventory)\n",
        "```\n",
        "\n",
        "### 出力結果\n",
        "\n",
        "```\n",
        "{'apple': 12, 'banana': 8, 'orange': 8, 'grape': 7}\n",
        "```"
      ]
    },
    {
      "cell_type": "code",
      "execution_count": null,
      "id": "8db898cd",
      "metadata": {
        "id": "8db898cd"
      },
      "outputs": [],
      "source": []
    }
  ],
  "metadata": {
    "kernelspec": {
      "display_name": "Python 3",
      "language": "python",
      "name": "python3"
    },
    "language_info": {
      "codemirror_mode": {
        "name": "ipython",
        "version": 3
      },
      "file_extension": ".py",
      "mimetype": "text/x-python",
      "name": "python",
      "nbconvert_exporter": "python",
      "pygments_lexer": "ipython3",
      "version": "3.13.5"
    },
    "colab": {
      "provenance": [],
      "include_colab_link": true
    }
  },
  "nbformat": 4,
  "nbformat_minor": 5
}