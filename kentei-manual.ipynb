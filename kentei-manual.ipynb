{
 "cells": [
  {
   "cell_type": "code",
   "execution_count": null,
   "id": "44e1a6cd",
   "metadata": {},
   "outputs": [
    {
     "name": "stdout",
     "output_type": "stream",
     "text": [
      "[[  40 1200]\n",
      " [  50 1000]]\n",
      "カイ二乗：3.1580018590280665\n",
      "P値:0.07555560906125422\n",
      "1\n",
      "期待度数:1\n",
      "❌ 有意差なし（差は偶然の可能性が高い）\n"
     ]
    }
   ],
   "source": [
    "# カイ二乗検定（独立性 :クロス集計表)\n",
    "\n",
    "import numpy as np\n",
    "import scipy.stats as ss\n",
    "\n",
    "#①クロス集計表を作る\n",
    "kurosu = np.array([[40,1200],[50,1000]])\n",
    "print(kurosu)\n",
    "\n",
    "#②カイ二乗検定\n",
    "\n",
    "stats,p_value,df,exp = ss.chi2_contingency(kurosu)\n",
    "\n",
    "# カイ二乗の値\n",
    "print(f\"カイ二乗：{stats}\")\n",
    "print(f\"{df}\")\n",
    "print(f\"期待度数:{df}\")\n",
    "\n",
    "\n",
    "# ===== 判定 =====\n",
    "alpha = 0.05  # 有意水準（5%）\n",
    "if p_value < alpha:\n",
    "    print(\"✅ 有意差あり！（クリック率に差があると考えられる）\")\n",
    "else:\n",
    "    print(\"❌ 有意差なし（差は偶然の可能性が高い）\")"
   ]
  },
  {
   "cell_type": "code",
   "execution_count": 2,
   "id": "21376f1a",
   "metadata": {},
   "outputs": [
    {
     "data": {
      "text/plain": [
       "'/home/hiro1'"
      ]
     },
     "execution_count": 2,
     "metadata": {},
     "output_type": "execute_result"
    }
   ],
   "source": [
    "%pwd"
   ]
  },
  {
   "cell_type": "code",
   "execution_count": 1,
   "id": "2edcc6f8",
   "metadata": {},
   "outputs": [
    {
     "name": "stdout",
     "output_type": "stream",
     "text": [
      "Z値: -0.361\n",
      "p値: 0.718\n",
      "❌ 有意差なし（差は偶然の可能性が高い）\n"
     ]
    }
   ],
   "source": [
    "#Z検定　母比率の差の検定（プールされた比率（共通の比率）を使う！\n",
    "\n",
    "from statsmodels.stats.proportion import proportions_ztest\n",
    "\n",
    "# ===== データ入力 =====\n",
    "# count: 成功（クリックなど）の数\n",
    "# nobs:  試行回数（インプレッションなどの母数）\n",
    "count = [40, 48]       # 旧案、新案のクリック数\n",
    "nobs = [1256, 1397]    # 旧案、新案のインプレッション数\n",
    "\n",
    "# ===== Z検定の実行 =====\n",
    "z_stat, p_value = proportions_ztest(count, nobs)\n",
    "\n",
    "# ===== 結果表示 =====\n",
    "print(f\"Z値: {z_stat:.3f}\")\n",
    "print(f\"p値: {p_value:.3f}\")\n",
    "\n",
    "# ===== 判定 =====\n",
    "alpha = 0.05  # 有意水準（5%）\n",
    "if p_value < alpha:\n",
    "    print(\"✅ 有意差あり！（クリック率に差があると考えられる）\")\n",
    "else:\n",
    "    print(\"❌ 有意差なし（差は偶然の可能性が高い）\")\n"
   ]
  },
  {
   "cell_type": "code",
   "execution_count": 2,
   "id": "1db91834",
   "metadata": {},
   "outputs": [
    {
     "name": "stdout",
     "output_type": "stream",
     "text": [
      "標本平均: 12.7\n",
      "不偏分散: 8.677777777777777\n",
      "不偏分散(地道に計算バージョン）: 8.677777777777777\n",
      "標準誤差(SE): 0.9315459074988081\n",
      "t値: 2.2621571628540993\n",
      "母平均の区間推定: 10.592696752824148 <= μ <= 14.80730324717585\n"
     ]
    }
   ],
   "source": [
    "#母平均の区間推定\n",
    "\n",
    "\n",
    "import numpy as np\n",
    "from scipy.stats import t\n",
    "\n",
    "jikken = np.array([12, 13, 12, 17, 10, 14, 18, 10, 9, 12])\n",
    "\n",
    "# 標本平均を求める\n",
    "x_mean = np.mean(jikken)\n",
    "\n",
    "print(f\"標本平均: {x_mean}\")\n",
    "\n",
    "# 不偏分散を計算\n",
    "huhenbunsan = np.var(jikken, ddof=1)  # ddof=1で不偏分散を計算\n",
    "print(f\"不偏分散: {huhenbunsan}\")\n",
    "\n",
    "#(地道に不偏分散計算すると。。。）\n",
    "diff  = (jikken - x_mean) **2\n",
    "sumofdiff = np.sum(diff)\n",
    "n = len(jikken)\n",
    "huhenbunsan2 = sumofdiff/( n -1) \n",
    "print(f\"不偏分散(地道に計算バージョン）: {huhenbunsan}\")\n",
    "\n",
    "\n",
    "# SE（標準誤差）の計算\n",
    "SE = np.sqrt(huhenbunsan / len(jikken))\n",
    "\n",
    "print(f\"標準誤差(SE): {SE}\")\n",
    "\n",
    "# t値の取得（自由度9、信頼区間97.5%）\n",
    "t_value = t.ppf(0.975, df=len(jikken) - 1)\n",
    "\n",
    "print(f\"t値: {t_value}\")\n",
    "\n",
    "# 母平均の区間推定\n",
    "confidence_interval_lower = x_mean - t_value * SE\n",
    "confidence_interval_upper = x_mean + t_value * SE\n",
    "\n",
    "print(f\"母平均の区間推定: {confidence_interval_lower} <= μ <= {confidence_interval_upper}\")"
   ]
  }
 ],
 "metadata": {
  "kernelspec": {
   "display_name": "venv",
   "language": "python",
   "name": "python3"
  },
  "language_info": {
   "codemirror_mode": {
    "name": "ipython",
    "version": 3
   },
   "file_extension": ".py",
   "mimetype": "text/x-python",
   "name": "python",
   "nbconvert_exporter": "python",
   "pygments_lexer": "ipython3",
   "version": "3.12.3"
  }
 },
 "nbformat": 4,
 "nbformat_minor": 5
}
