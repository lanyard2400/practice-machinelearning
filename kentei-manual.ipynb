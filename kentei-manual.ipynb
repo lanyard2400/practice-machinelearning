{
 "cells": [
  {
   "cell_type": "code",
   "execution_count": null,
   "id": "44e1a6cd",
   "metadata": {},
   "outputs": [
    {
     "name": "stdout",
     "output_type": "stream",
     "text": [
      "[[  40 1200]\n",
      " [  50 1000]]\n",
      "カイ二乗：3.1580018590280665\n",
      "P値:0.07555560906125422\n",
      "1\n",
      "期待度数:1\n",
      "❌ 有意差なし（差は偶然の可能性が高い）\n"
     ]
    }
   ],
   "source": [
    "# カイ二乗検定（独立性 :クロス集計表)\n",
    "\n",
    "import numpy as np\n",
    "import scipy.stats as ss\n",
    "\n",
    "#①クロス集計表を作る\n",
    "kurosu = np.array([[40,1200],[50,1000]])\n",
    "print(kurosu)\n",
    "\n",
    "#②カイ二乗検定\n",
    "\n",
    "stats,p_value,df,exp = ss.chi2_contingency(kurosu)\n",
    "\n",
    "# カイ二乗の値\n",
    "print(f\"カイ二乗：{stats}\")\n",
    "print(f\"{df}\")\n",
    "print(f\"期待度数:{df}\")\n",
    "\n",
    "\n",
    "# ===== 判定 =====\n",
    "alpha = 0.05  # 有意水準（5%）\n",
    "if p_value < alpha:\n",
    "    print(\"✅ 有意差あり！（クリック率に差があると考えられる）\")\n",
    "else:\n",
    "    print(\"❌ 有意差なし（差は偶然の可能性が高い）\")"
   ]
  },
  {
   "cell_type": "code",
   "execution_count": 2,
   "id": "21376f1a",
   "metadata": {},
   "outputs": [
    {
     "data": {
      "text/plain": [
       "'/home/hiro1'"
      ]
     },
     "execution_count": 2,
     "metadata": {},
     "output_type": "execute_result"
    }
   ],
   "source": [
    "%pwd"
   ]
  },
  {
   "cell_type": "code",
   "execution_count": null,
   "id": "2edcc6f8",
   "metadata": {},
   "outputs": [
    {
     "name": "stdout",
     "output_type": "stream",
     "text": [
      "Z値: -0.361\n",
      "p値: 0.718\n",
      "❌ 有意差なし（差は偶然の可能性が高い）\n"
     ]
    }
   ],
   "source": [
    "#Z検定　母比率の差の検定（プールされた比率（共通の比率）を使う！\n",
    "\n",
    "from statsmodels.stats.proportion import proportions_ztest\n",
    "\n",
    "# ===== データ入力 =====\n",
    "# count: 成功（クリックなど）の数\n",
    "# nobs:  試行回数（インプレッションなどの母数）\n",
    "count = [40, 48]       # 旧案、新案のクリック数\n",
    "nobs = [1256, 1397]    # 旧案、新案のインプレッション数\n",
    "\n",
    "# ===== Z検定の実行 =====\n",
    "z_stat, p_value = proportions_ztest(count, nobs)\n",
    "\n",
    "# ===== 結果表示 =====\n",
    "print(f\"Z値: {z_stat:.3f}\")\n",
    "print(f\"p値: {p_value:.3f}\")\n",
    "\n",
    "# ===== 判定 =====\n",
    "alpha = 0.05  # 有意水準（5%）\n",
    "if p_value < alpha:\n",
    "    print(\"✅ 有意差あり！（クリック率に差があると考えられる）\")\n",
    "else:\n",
    "    print(\"❌ 有意差なし（差は偶然の可能性が高い）\")\n"
   ]
  }
 ],
 "metadata": {
  "kernelspec": {
   "display_name": "venv",
   "language": "python",
   "name": "python3"
  },
  "language_info": {
   "codemirror_mode": {
    "name": "ipython",
    "version": 3
   },
   "file_extension": ".py",
   "mimetype": "text/x-python",
   "name": "python",
   "nbconvert_exporter": "python",
   "pygments_lexer": "ipython3",
   "version": "3.12.3"
  }
 },
 "nbformat": 4,
 "nbformat_minor": 5
}
